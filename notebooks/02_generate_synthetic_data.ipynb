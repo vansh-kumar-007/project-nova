{
 "cells": [
  {
   "cell_type": "markdown",
   "id": "859b7b40",
   "metadata": {},
   "source": [
    "### Importing Modules"
   ]
  },
  {
   "cell_type": "code",
   "execution_count": 2,
   "id": "720d3cd8",
   "metadata": {},
   "outputs": [],
   "source": [
    "import sys\n",
    "from pathlib import Path\n",
    "\n",
    "project_root = Path(\"/home/vansh/projects/project-nova\").resolve()\n",
    "\n",
    "if str(project_root) not in sys.path:\n",
    "    sys.path.insert(0, str(project_root))\n",
    "\n",
    "\n",
    "import numpy as np\n",
    "import pandas as pd\n",
    "from src.data import save_csv\n",
    "from src.config import DATA_DIR, TARGET_COLUMN\n",
    "from src.utils import set_seed"
   ]
  },
  {
   "cell_type": "markdown",
   "id": "8530e3ec",
   "metadata": {},
   "source": []
  },
  {
   "cell_type": "markdown",
   "id": "7e8656b4",
   "metadata": {},
   "source": [
    "### 1. Ensure reproducibility"
   ]
  },
  {
   "cell_type": "code",
   "execution_count": 3,
   "id": "606bef2c",
   "metadata": {},
   "outputs": [],
   "source": [
    "set_seed(42)"
   ]
  },
  {
   "cell_type": "markdown",
   "id": "2e65e986",
   "metadata": {},
   "source": [
    "### 2. Number of rows\n"
   ]
  },
  {
   "cell_type": "code",
   "execution_count": 4,
   "id": "0a5e665e",
   "metadata": {},
   "outputs": [],
   "source": [
    "n_rows = 10_000\n"
   ]
  },
  {
   "cell_type": "markdown",
   "id": "9cf971e7",
   "metadata": {},
   "source": [
    "### 3. Generate basic features\n"
   ]
  },
  {
   "cell_type": "code",
   "execution_count": 5,
   "id": "1d398a51",
   "metadata": {},
   "outputs": [],
   "source": [
    "monthly_earnings = np.random.normal(30000, 8000, n_rows)        # avg 30k ± 8k\n",
    "trips_per_week = np.random.poisson(30, n_rows)                  # avg 30 trips/week\n",
    "avg_rating = np.clip(np.random.normal(4.6, 0.3, n_rows), 1, 5)  # 1–5 scale\n",
    "cancellation_rate = np.clip(np.random.beta(1, 10, n_rows), 0, 1) # 0–1 proportion\n",
    "active_days_per_month = np.random.randint(5, 31, n_rows)        # 5–30 days"
   ]
  },
  {
   "cell_type": "markdown",
   "id": "874fcf25",
   "metadata": {},
   "source": [
    "### 4. Create ground-truth Nova Score\n"
   ]
  },
  {
   "cell_type": "code",
   "execution_count": 6,
   "id": "7545743b",
   "metadata": {},
   "outputs": [],
   "source": [
    "#    We'll weight the features: earnings (40%), trips (20%), rating (20%), cancellations (-10%), active_days (10%)\n",
    "#    Then add some noise to simulate variability.\n",
    "score_raw = (\n",
    "    (monthly_earnings / 50000) * 40 +         # normalized earnings to 0–40 points\n",
    "    (trips_per_week / 60) * 20 +              # normalized trips to 0–20 points\n",
    "    (avg_rating / 5) * 20 +                   # rating to 0–20 points\n",
    "    ((1 - cancellation_rate) * 10) +          # fewer cancellations = higher score\n",
    "    (active_days_per_month / 30) * 10         # active days to 0–10 points\n",
    ")\n",
    "\n",
    "# Add Gaussian noise (±5 points)\n",
    "noise = np.random.normal(0, 5, n_rows)\n",
    "nova_score = np.clip(score_raw + noise, 0, 100)  # keep between 0 and 100"
   ]
  },
  {
   "cell_type": "markdown",
   "id": "0bf58abe",
   "metadata": {},
   "source": [
    "### 5. Build DataFrame\n"
   ]
  },
  {
   "cell_type": "code",
   "execution_count": 7,
   "id": "463c899f",
   "metadata": {},
   "outputs": [],
   "source": [
    "df = pd.DataFrame({\n",
    "    \"partner_id\": [f\"P{i+1:05d}\" for i in range(n_rows)],\n",
    "    \"monthly_earnings\": monthly_earnings.round(2),\n",
    "    \"trips_per_week\": trips_per_week,\n",
    "    \"avg_rating\": avg_rating.round(2),\n",
    "    \"cancellation_rate\": cancellation_rate.round(3),\n",
    "    \"active_days_per_month\": active_days_per_month,\n",
    "    TARGET_COLUMN: nova_score.round(2),\n",
    "})"
   ]
  },
  {
   "cell_type": "markdown",
   "id": "f715865c",
   "metadata": {},
   "source": [
    "### 6. Save to CSV"
   ]
  },
  {
   "cell_type": "code",
   "execution_count": 8,
   "id": "ce3a8dd7",
   "metadata": {},
   "outputs": [],
   "source": [
    "DATA_DIR.mkdir(parents=True, exist_ok=True)\n",
    "csv_path = DATA_DIR / \"synthetic_basic_10k.csv\"\n",
    "save_csv(df, csv_path)\n"
   ]
  },
  {
   "cell_type": "markdown",
   "id": "4f99df71",
   "metadata": {},
   "source": [
    "### 7. Quick check\n"
   ]
  },
  {
   "cell_type": "code",
   "execution_count": 9,
   "id": "98672d61",
   "metadata": {},
   "outputs": [
    {
     "name": "stdout",
     "output_type": "stream",
     "text": [
      "Saved dataset to: /home/vansh/projects/project-nova/data/synthetic_basic_10k.csv\n",
      "Shape: (10000, 7)\n"
     ]
    },
    {
     "data": {
      "text/html": [
       "<div>\n",
       "<style scoped>\n",
       "    .dataframe tbody tr th:only-of-type {\n",
       "        vertical-align: middle;\n",
       "    }\n",
       "\n",
       "    .dataframe tbody tr th {\n",
       "        vertical-align: top;\n",
       "    }\n",
       "\n",
       "    .dataframe thead th {\n",
       "        text-align: right;\n",
       "    }\n",
       "</style>\n",
       "<table border=\"1\" class=\"dataframe\">\n",
       "  <thead>\n",
       "    <tr style=\"text-align: right;\">\n",
       "      <th></th>\n",
       "      <th>partner_id</th>\n",
       "      <th>monthly_earnings</th>\n",
       "      <th>trips_per_week</th>\n",
       "      <th>avg_rating</th>\n",
       "      <th>cancellation_rate</th>\n",
       "      <th>active_days_per_month</th>\n",
       "      <th>Nova_Score</th>\n",
       "    </tr>\n",
       "  </thead>\n",
       "  <tbody>\n",
       "    <tr>\n",
       "      <th>0</th>\n",
       "      <td>P00001</td>\n",
       "      <td>33973.71</td>\n",
       "      <td>27</td>\n",
       "      <td>4.40</td>\n",
       "      <td>0.050</td>\n",
       "      <td>23</td>\n",
       "      <td>71.01</td>\n",
       "    </tr>\n",
       "    <tr>\n",
       "      <th>1</th>\n",
       "      <td>P00002</td>\n",
       "      <td>28893.89</td>\n",
       "      <td>20</td>\n",
       "      <td>4.72</td>\n",
       "      <td>0.052</td>\n",
       "      <td>16</td>\n",
       "      <td>63.45</td>\n",
       "    </tr>\n",
       "    <tr>\n",
       "      <th>2</th>\n",
       "      <td>P00003</td>\n",
       "      <td>35181.51</td>\n",
       "      <td>31</td>\n",
       "      <td>4.66</td>\n",
       "      <td>0.069</td>\n",
       "      <td>23</td>\n",
       "      <td>81.22</td>\n",
       "    </tr>\n",
       "    <tr>\n",
       "      <th>3</th>\n",
       "      <td>P00004</td>\n",
       "      <td>42184.24</td>\n",
       "      <td>27</td>\n",
       "      <td>4.69</td>\n",
       "      <td>0.022</td>\n",
       "      <td>15</td>\n",
       "      <td>73.58</td>\n",
       "    </tr>\n",
       "    <tr>\n",
       "      <th>4</th>\n",
       "      <td>P00005</td>\n",
       "      <td>28126.77</td>\n",
       "      <td>26</td>\n",
       "      <td>4.71</td>\n",
       "      <td>0.019</td>\n",
       "      <td>5</td>\n",
       "      <td>66.21</td>\n",
       "    </tr>\n",
       "  </tbody>\n",
       "</table>\n",
       "</div>"
      ],
      "text/plain": [
       "  partner_id  monthly_earnings  trips_per_week  avg_rating  cancellation_rate  \\\n",
       "0     P00001          33973.71              27        4.40              0.050   \n",
       "1     P00002          28893.89              20        4.72              0.052   \n",
       "2     P00003          35181.51              31        4.66              0.069   \n",
       "3     P00004          42184.24              27        4.69              0.022   \n",
       "4     P00005          28126.77              26        4.71              0.019   \n",
       "\n",
       "   active_days_per_month  Nova_Score  \n",
       "0                     23       71.01  \n",
       "1                     16       63.45  \n",
       "2                     23       81.22  \n",
       "3                     15       73.58  \n",
       "4                      5       66.21  "
      ]
     },
     "execution_count": 9,
     "metadata": {},
     "output_type": "execute_result"
    }
   ],
   "source": [
    "print(f\"Saved dataset to: {csv_path}\")\n",
    "print(f\"Shape: {df.shape}\")\n",
    "df.head()"
   ]
  },
  {
   "cell_type": "markdown",
   "id": "5ee7754d",
   "metadata": {},
   "source": []
  }
 ],
 "metadata": {
  "kernelspec": {
   "display_name": "Python 3 (ipykernel)",
   "language": "python",
   "name": "python3"
  },
  "language_info": {
   "codemirror_mode": {
    "name": "ipython",
    "version": 3
   },
   "file_extension": ".py",
   "mimetype": "text/x-python",
   "name": "python",
   "nbconvert_exporter": "python",
   "pygments_lexer": "ipython3",
   "version": "3.10.18"
  }
 },
 "nbformat": 4,
 "nbformat_minor": 5
}
